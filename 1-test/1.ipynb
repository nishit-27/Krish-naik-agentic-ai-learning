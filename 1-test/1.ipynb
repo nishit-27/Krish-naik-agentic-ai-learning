{
 "cells": [
  {
   "cell_type": "code",
   "execution_count": 1,
   "id": "ec36d86a",
   "metadata": {},
   "outputs": [
    {
     "data": {
      "text/plain": [
       "4"
      ]
     },
     "execution_count": 1,
     "metadata": {},
     "output_type": "execute_result"
    }
   ],
   "source": [
    "2 + 2"
   ]
  },
  {
   "cell_type": "code",
   "execution_count": 8,
   "id": "d12c29e6",
   "metadata": {},
   "outputs": [
    {
     "name": "stdout",
     "output_type": "stream",
     "text": [
      "<class 'tuple'>\n"
     ]
    }
   ],
   "source": [
    "age = \"hello\", str(8)\n",
    "print(type(age))"
   ]
  },
  {
   "cell_type": "code",
   "execution_count": 19,
   "id": "a1b60f02",
   "metadata": {},
   "outputs": [
    {
     "data": {
      "text/plain": [
       "int"
      ]
     },
     "execution_count": 19,
     "metadata": {},
     "output_type": "execute_result"
    }
   ],
   "source": [
    "a = 10\n",
    "b = \"10\"\n",
    "b=a\n",
    "type(a)\n"
   ]
  },
  {
   "cell_type": "code",
   "execution_count": 22,
   "id": "5f71e646",
   "metadata": {},
   "outputs": [
    {
     "name": "stdout",
     "output_type": "stream",
     "text": [
      "you are less than 18\n"
     ]
    }
   ],
   "source": [
    "age = 13\n",
    "\n",
    "if age<13:\n",
    "    print(\"you less than 13\")\n",
    "elif age<18:\n",
    "    print(\"you are less than 18\")\n",
    "else : \n",
    "    print(\"you are allowed\")"
   ]
  },
  {
   "cell_type": "code",
   "execution_count": 25,
   "id": "e2b03e1f",
   "metadata": {},
   "outputs": [
    {
     "name": "stdout",
     "output_type": "stream",
     "text": [
      "leap year\n"
     ]
    }
   ],
   "source": [
    "year = int(input(\"give me years\"))\n",
    "\n",
    "if year>0 :\n",
    "    if year%4==0 :\n",
    "        print(\"leap year\")\n",
    "    else :\n",
    "        print(\"not leap year\")"
   ]
  },
  {
   "cell_type": "code",
   "execution_count": 94,
   "id": "89830867",
   "metadata": {},
   "outputs": [
    {
     "name": "stdout",
     "output_type": "stream",
     "text": [
      "2\n",
      "3\n",
      "5\n",
      "7\n",
      "11\n",
      "13\n",
      "17\n",
      "19\n"
     ]
    }
   ],
   "source": [
    "\n",
    "for i in range(1,21):\n",
    "    if i>1:\n",
    "        for num in range(2,i):\n",
    "            \n",
    "            if i%num ==0:\n",
    "                break\n",
    "         \n",
    "        else:\n",
    "            print(i)\n",
    "        "
   ]
  },
  {
   "cell_type": "code",
   "execution_count": 69,
   "id": "d893685a",
   "metadata": {},
   "outputs": [
    {
     "name": "stdout",
     "output_type": "stream",
     "text": [
      "0\n",
      "1\n",
      "2\n",
      "3\n",
      "4\n",
      "5\n",
      "6\n",
      "7\n",
      "8\n",
      "9\n"
     ]
    }
   ],
   "source": [
    "for i in range(10):\n",
    "    print(i)"
   ]
  },
  {
   "cell_type": "code",
   "execution_count": 75,
   "id": "a013bc99",
   "metadata": {},
   "outputs": [
    {
     "name": "stdout",
     "output_type": "stream",
     "text": [
      "['even', 1, 'even', 9, 'even', 25, 'even', 49, 'even', 81]\n",
      "['even', 1, 'even', 9, 'even', 25, 'even', 49, 'even', 81] hello\n"
     ]
    }
   ],
   "source": [
    "odd_numbers = [num**2 if num%2!=0 else \"even\" for num in range(10)]\n",
    "# [expression_if_true if condition else expression_if_false for item in iterable]\n",
    "print(odd_numbers)\n",
    "print(odd_numbers,\"hello\")"
   ]
  },
  {
   "cell_type": "code",
   "execution_count": 81,
   "id": "78910079",
   "metadata": {},
   "outputs": [
    {
     "name": "stdout",
     "output_type": "stream",
     "text": [
      "{4, 'abs', 'hellow', 'how', 8}\n"
     ]
    }
   ],
   "source": [
    "my_set = {\"hellow\",8,\"how\",4,\"abs\"}\n",
    "print(my_set)"
   ]
  },
  {
   "cell_type": "code",
   "execution_count": 85,
   "id": "a38803de",
   "metadata": {},
   "outputs": [
    {
     "name": "stdout",
     "output_type": "stream",
     "text": [
      "djfd\n"
     ]
    }
   ],
   "source": [
    "list = [22,24,[\"djfd\",33],[\"hello\"]]\n",
    "print(list[2][0])"
   ]
  },
  {
   "cell_type": "code",
   "execution_count": 1,
   "id": "a166222c",
   "metadata": {},
   "outputs": [
    {
     "name": "stdout",
     "output_type": "stream",
     "text": [
      "{'name': 'test', 'age': 43, 'new': 'number'}\n"
     ]
    }
   ],
   "source": [
    "dict = {\"name\":\"test\", \"age\": 43}\n",
    "type(dict)\n",
    "dict[\"name\"]\n",
    "dict[\"new\"] = \"number\"\n",
    "print(dict)\n"
   ]
  },
  {
   "cell_type": "code",
   "execution_count": 109,
   "id": "a0f8d748",
   "metadata": {},
   "outputs": [
    {
     "name": "stdout",
     "output_type": "stream",
     "text": [
      "{1: 1}\n",
      "{1: 1, 2: 1}\n",
      "{1: 1, 2: 2}\n",
      "{1: 1, 2: 3}\n",
      "{1: 1, 2: 3, 3: 1}\n",
      "{1: 1, 2: 3, 3: 2}\n",
      "{1: 1, 2: 3, 3: 3}\n",
      "{1: 1, 2: 3, 3: 4}\n",
      "{1: 1, 2: 3, 3: 4, 4: 1}\n",
      "{1: 1, 2: 3, 3: 4, 4: 2}\n",
      "{1: 1, 2: 3, 3: 4, 4: 3}\n",
      "{1: 1, 2: 3, 3: 4, 4: 4}\n",
      "{1: 1, 2: 3, 3: 4, 4: 4}\n"
     ]
    }
   ],
   "source": [
    "numbers = [1,2,2,2,3,3,3,3,4,4,4,4]\n",
    "\n",
    "frequency = {}\n",
    "\n",
    "for number in numbers:\n",
    "    if number in frequency:\n",
    "        frequency[number]= frequency[number]+1\n",
    "        print(frequency)\n",
    "    else: \n",
    "        frequency[number] = 1\n",
    "        print(frequency)\n",
    "\n",
    "print(frequency)\n"
   ]
  },
  {
   "cell_type": "code",
   "execution_count": 111,
   "id": "fe967865",
   "metadata": {},
   "outputs": [
    {
     "name": "stdout",
     "output_type": "stream",
     "text": [
      "{'a': 1, 'b': 3, 'c': 4}\n",
      "{'a': 1, 'b': 3, 'c': 4}\n"
     ]
    }
   ],
   "source": [
    "dict1 = {\"a\":1, \"b\":2}\n",
    "dict2 = {\"b\":3, \"c\":4}\n",
    "merged_dict = dict1 | dict2\n",
    "print(merged_dict)\n",
    "merged_dict_method2 = {**dict1,**dict2}\n",
    "print(merged_dict_method2)"
   ]
  },
  {
   "cell_type": "code",
   "execution_count": 18,
   "id": "2ac4f179",
   "metadata": {},
   "outputs": [
    {
     "name": "stdout",
     "output_type": "stream",
     "text": [
      "(2, 'hello', 8)\n"
     ]
    }
   ],
   "source": [
    "numbers = (2 , \"hello\", 8)\n",
    "yesname = numbers\n",
    "print(yesname)"
   ]
  },
  {
   "cell_type": "code",
   "execution_count": null,
   "id": "b8510510",
   "metadata": {},
   "outputs": [],
   "source": []
  }
 ],
 "metadata": {
  "kernelspec": {
   "display_name": ".venv",
   "language": "python",
   "name": "python3"
  },
  "language_info": {
   "codemirror_mode": {
    "name": "ipython",
    "version": 3
   },
   "file_extension": ".py",
   "mimetype": "text/x-python",
   "name": "python",
   "nbconvert_exporter": "python",
   "pygments_lexer": "ipython3",
   "version": "3.12.8"
  }
 },
 "nbformat": 4,
 "nbformat_minor": 5
}
